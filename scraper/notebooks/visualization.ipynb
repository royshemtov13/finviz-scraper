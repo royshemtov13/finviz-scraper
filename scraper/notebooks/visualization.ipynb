{
 "cells": [
  {
   "cell_type": "code",
   "execution_count": null,
   "metadata": {},
   "outputs": [],
   "source": [
    "from scraper.screener.etl import FinvizETL\n",
    "from scraper.screener.screeners import Screeners\n",
    "from scraper.utils.config import get_config"
   ]
  },
  {
   "cell_type": "code",
   "execution_count": null,
   "metadata": {},
   "outputs": [],
   "source": [
    "config = get_config(\"screeners.yaml\")\n",
    "filters = [filt[\"name\"] for filt in config]\n",
    "etl = FinvizETL()\n",
    "screeners = Screeners.from_filters(filters)\n",
    "data = etl.extract(screeners).transform().load()"
   ]
  },
  {
   "cell_type": "code",
   "execution_count": null,
   "metadata": {},
   "outputs": [],
   "source": [
    "data"
   ]
  }
 ],
 "metadata": {
  "language_info": {
   "name": "python"
  }
 },
 "nbformat": 4,
 "nbformat_minor": 2
}
